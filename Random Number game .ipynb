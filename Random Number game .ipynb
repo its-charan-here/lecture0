{
 "cells": [
  {
   "cell_type": "code",
   "execution_count": 3,
   "metadata": {},
   "outputs": [
    {
     "name": "stdout",
     "output_type": "stream",
     "text": [
      "enter coins that add upto 59 once in every line\n",
      "enter a value:0\n",
      "sorry total = 0 is less than the given value \n",
      "Do you want to play again (y/n)y\n",
      "enter coins that add upto 96 once in every line\n",
      "enter a value:0\n",
      "sorry total = 0 is less than the given value \n",
      "Do you want to play again (y/n)n\n",
      "We were glad to have you :)\n"
     ]
    }
   ],
   "source": [
    "import random\n",
    "\n",
    "terminate =False\n",
    "while not terminate:\n",
    "    a = random.randint(1,100)\n",
    "    value =(1,5,10,25)\n",
    "    print(\"enter coins that add upto\",a,\"once in every line\")\n",
    "    ans =0\n",
    "    \n",
    "    g =False\n",
    "\n",
    "    while not g:\n",
    "        c = int(input(\"enter a value:\"))\n",
    "        if c in value:\n",
    "            ans = ans +c\n",
    "        elif c ==0:\n",
    "            break    \n",
    "        else:\n",
    "            print(\"please enter values from 1,5,10,25\")    \n",
    "    if ans>a:\n",
    "        print(\"your total =\",ans, \"has exceeded the given value\")\n",
    "    elif ans<a:\n",
    "        print(\"sorry total =\",ans, \"is less than the given value \")\n",
    "    \n",
    "    elif ans==a:\n",
    "        print(\"Yaaaayyy Your answer is right\")\n",
    "    \n",
    "    while not False:\n",
    "        h = input(\"Do you want to play again (y/n)\")\n",
    "        if h=='n':\n",
    "            break\n",
    "        elif h=='y':\n",
    "            terminate =False\n",
    "            break\n",
    "        elif h!='y'and h!='n' :\n",
    "            print(\"please enter y/n only\")\n",
    "    if h=='n':\n",
    "            print(\"We were glad to have you :)\")\n",
    "            break\n",
    "   "
   ]
  },
  {
   "cell_type": "code",
   "execution_count": null,
   "metadata": {},
   "outputs": [],
   "source": []
  },
  {
   "cell_type": "code",
   "execution_count": null,
   "metadata": {},
   "outputs": [],
   "source": []
  }
 ],
 "metadata": {
  "kernelspec": {
   "display_name": "Python 3",
   "language": "python",
   "name": "python3"
  },
  "language_info": {
   "codemirror_mode": {
    "name": "ipython",
    "version": 3
   },
   "file_extension": ".py",
   "mimetype": "text/x-python",
   "name": "python",
   "nbconvert_exporter": "python",
   "pygments_lexer": "ipython3",
   "version": "3.6.5"
  }
 },
 "nbformat": 4,
 "nbformat_minor": 2
}
